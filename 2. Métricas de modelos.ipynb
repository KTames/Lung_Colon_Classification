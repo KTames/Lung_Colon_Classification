{
 "cells": [
  {
   "cell_type": "markdown",
   "id": "c0d551d2",
   "metadata": {},
   "source": [
    "## Cálculo de métricas para los modelos\n",
    "\n",
    "Después de obtener los resultados de entrenamiento para los tres modelos, se puede proceder a calcular las distintas métricas propuestas en el documento del proyecto primario.\n",
    "\n",
    "Este cuaderno se enfoca en la obtención de datos, su análisis se hace directamente en el artículo."
   ]
  },
  {
   "cell_type": "code",
   "execution_count": 51,
   "id": "3f3fdb7a",
   "metadata": {},
   "outputs": [],
   "source": [
    "from shared_definitions import LC25000DataModule\n",
    "data = LC25000DataModule()\n",
    "data.setup(\"test\")\n",
    "import random\n",
    "random.seed(42)"
   ]
  },
  {
   "cell_type": "markdown",
   "id": "208c8939",
   "metadata": {},
   "source": [
    "## Obtención de métricas globales"
   ]
  },
  {
   "cell_type": "code",
   "execution_count": null,
   "id": "008a7445",
   "metadata": {},
   "outputs": [],
   "source": [
    "# Acá se van a guardar los resultados de las métricas\n",
    "import pandas as pd\n",
    "\n",
    "global_metrics: pd.DataFrame = None\n",
    "\n",
    "\n",
    "def add_global_metrics(model_name: str, accuracy: float, recall: float, precision: float, f1_score: float, specificity: float):\n",
    "    \"\"\"\n",
    "    Agrega las métricas de un modelo a un DataFrame global.\n",
    "    Si el DataFrame global no existe, lo crea.\n",
    "    \"\"\"\n",
    "    global global_metrics\n",
    "    new_df = pd.DataFrame(\n",
    "        columns=[\"Model\", \"Accuracy\", \"Recall\", \"Precision\", \"F1-Score\", \"Specificity\"],\n",
    "        data=[[model_name, accuracy, recall, precision, f1_score, specificity]],\n",
    "    )\n",
    "    if global_metrics is None:\n",
    "        global_metrics = new_df\n",
    "    else:\n",
    "        global_metrics = pd.concat([global_metrics, new_df], ignore_index=True)"
   ]
  },
  {
   "cell_type": "markdown",
   "id": "6251ea4c",
   "metadata": {},
   "source": [
    "Métricas globales para ResNet 50"
   ]
  },
  {
   "cell_type": "code",
   "execution_count": null,
   "id": "8d31d14b",
   "metadata": {},
   "outputs": [
    {
     "name": "stderr",
     "output_type": "stream",
     "text": [
      "GPU available: True (cuda), used: True\n",
      "TPU available: False, using: 0 TPU cores\n",
      "HPU available: False, using: 0 HPUs\n",
      "Some weights of ResNetForImageClassification were not initialized from the model checkpoint at microsoft/resnet-50 and are newly initialized because the shapes did not match:\n",
      "- classifier.1.bias: found shape torch.Size([1000]) in the checkpoint and torch.Size([4]) in the model instantiated\n",
      "- classifier.1.weight: found shape torch.Size([1000, 2048]) in the checkpoint and torch.Size([4, 2048]) in the model instantiated\n",
      "You should probably TRAIN this model on a down-stream task to be able to use it for predictions and inference.\n",
      "LOCAL_RANK: 0 - CUDA_VISIBLE_DEVICES: [0]\n"
     ]
    },
    {
     "data": {
      "application/vnd.jupyter.widget-view+json": {
       "model_id": "deb7ba24a7e64a62aef6279f921655e7",
       "version_major": 2,
       "version_minor": 0
      },
      "text/plain": [
       "Output()"
      ]
     },
     "metadata": {},
     "output_type": "display_data"
    },
    {
     "data": {
      "text/html": [
       "<pre style=\"white-space:pre;overflow-x:auto;line-height:normal;font-family:Menlo,'DejaVu Sans Mono',consolas,'Courier New',monospace\">┏━━━━━━━━━━━━━━━━━━━━━━━━━━━┳━━━━━━━━━━━━━━━━━━━━━━━━━━━┓\n",
       "┃<span style=\"font-weight: bold\">        Test metric        </span>┃<span style=\"font-weight: bold\">       DataLoader 0        </span>┃\n",
       "┡━━━━━━━━━━━━━━━━━━━━━━━━━━━╇━━━━━━━━━━━━━━━━━━━━━━━━━━━┩\n",
       "│<span style=\"color: #008080; text-decoration-color: #008080\">         test_acc          </span>│<span style=\"color: #800080; text-decoration-color: #800080\">    0.9889999628067017     </span>│\n",
       "│<span style=\"color: #008080; text-decoration-color: #008080\">          test_f1          </span>│<span style=\"color: #800080; text-decoration-color: #800080\">    0.9889854192733765     </span>│\n",
       "│<span style=\"color: #008080; text-decoration-color: #008080\">         test_loss         </span>│<span style=\"color: #800080; text-decoration-color: #800080\">    0.05725723132491112    </span>│\n",
       "│<span style=\"color: #008080; text-decoration-color: #008080\">         test_prec         </span>│<span style=\"color: #800080; text-decoration-color: #800080\">    0.9890757203102112     </span>│\n",
       "│<span style=\"color: #008080; text-decoration-color: #008080\">         test_rec          </span>│<span style=\"color: #800080; text-decoration-color: #800080\">    0.9889999628067017     </span>│\n",
       "│<span style=\"color: #008080; text-decoration-color: #008080\">         test_spec         </span>│<span style=\"color: #800080; text-decoration-color: #800080\">    0.9963333606719971     </span>│\n",
       "└───────────────────────────┴───────────────────────────┘\n",
       "</pre>\n"
      ],
      "text/plain": [
       "┏━━━━━━━━━━━━━━━━━━━━━━━━━━━┳━━━━━━━━━━━━━━━━━━━━━━━━━━━┓\n",
       "┃\u001b[1m \u001b[0m\u001b[1m       Test metric       \u001b[0m\u001b[1m \u001b[0m┃\u001b[1m \u001b[0m\u001b[1m      DataLoader 0       \u001b[0m\u001b[1m \u001b[0m┃\n",
       "┡━━━━━━━━━━━━━━━━━━━━━━━━━━━╇━━━━━━━━━━━━━━━━━━━━━━━━━━━┩\n",
       "│\u001b[36m \u001b[0m\u001b[36m        test_acc         \u001b[0m\u001b[36m \u001b[0m│\u001b[35m \u001b[0m\u001b[35m   0.9889999628067017    \u001b[0m\u001b[35m \u001b[0m│\n",
       "│\u001b[36m \u001b[0m\u001b[36m         test_f1         \u001b[0m\u001b[36m \u001b[0m│\u001b[35m \u001b[0m\u001b[35m   0.9889854192733765    \u001b[0m\u001b[35m \u001b[0m│\n",
       "│\u001b[36m \u001b[0m\u001b[36m        test_loss        \u001b[0m\u001b[36m \u001b[0m│\u001b[35m \u001b[0m\u001b[35m   0.05725723132491112   \u001b[0m\u001b[35m \u001b[0m│\n",
       "│\u001b[36m \u001b[0m\u001b[36m        test_prec        \u001b[0m\u001b[36m \u001b[0m│\u001b[35m \u001b[0m\u001b[35m   0.9890757203102112    \u001b[0m\u001b[35m \u001b[0m│\n",
       "│\u001b[36m \u001b[0m\u001b[36m        test_rec         \u001b[0m\u001b[36m \u001b[0m│\u001b[35m \u001b[0m\u001b[35m   0.9889999628067017    \u001b[0m\u001b[35m \u001b[0m│\n",
       "│\u001b[36m \u001b[0m\u001b[36m        test_spec        \u001b[0m\u001b[36m \u001b[0m│\u001b[35m \u001b[0m\u001b[35m   0.9963333606719971    \u001b[0m\u001b[35m \u001b[0m│\n",
       "└───────────────────────────┴───────────────────────────┘\n"
      ]
     },
     "metadata": {},
     "output_type": "display_data"
    },
    {
     "data": {
      "text/html": [
       "<pre style=\"white-space:pre;overflow-x:auto;line-height:normal;font-family:Menlo,'DejaVu Sans Mono',consolas,'Courier New',monospace\"></pre>\n"
      ],
      "text/plain": []
     },
     "metadata": {},
     "output_type": "display_data"
    }
   ],
   "source": [
    "from shared_definitions import ResNet50Classifier, create_trainer\n",
    "\n",
    "trainer = create_trainer(\n",
    "    logger_name=\"test_resnet50_lung_colon\",\n",
    "    filename=\"best-hf-resnet50\",\n",
    ")\n",
    "\n",
    "best_resnet50 = ResNet50Classifier.load_from_checkpoint(\n",
    "    \"tb_logs/resnet50_lung_colon/version_0/checkpoints/best-hf-resnet50.ckpt\"\n",
    ")\n",
    "best_resnet50.eval()\n",
    "\n",
    "resnet50_test_results = trainer.test(best_resnet50, datamodule=data)"
   ]
  },
  {
   "cell_type": "code",
   "execution_count": 40,
   "id": "0c700481",
   "metadata": {},
   "outputs": [
    {
     "data": {
      "text/html": [
       "<div>\n",
       "<style scoped>\n",
       "    .dataframe tbody tr th:only-of-type {\n",
       "        vertical-align: middle;\n",
       "    }\n",
       "\n",
       "    .dataframe tbody tr th {\n",
       "        vertical-align: top;\n",
       "    }\n",
       "\n",
       "    .dataframe thead th {\n",
       "        text-align: right;\n",
       "    }\n",
       "</style>\n",
       "<table border=\"1\" class=\"dataframe\">\n",
       "  <thead>\n",
       "    <tr style=\"text-align: right;\">\n",
       "      <th></th>\n",
       "      <th>Model</th>\n",
       "      <th>Accuracy</th>\n",
       "      <th>Recall</th>\n",
       "      <th>Precision</th>\n",
       "      <th>F1-Score</th>\n",
       "      <th>Specificity</th>\n",
       "    </tr>\n",
       "  </thead>\n",
       "  <tbody>\n",
       "    <tr>\n",
       "      <th>0</th>\n",
       "      <td>ResNet50</td>\n",
       "      <td>0.989</td>\n",
       "      <td>0.989</td>\n",
       "      <td>0.989076</td>\n",
       "      <td>0.988985</td>\n",
       "      <td>0.996333</td>\n",
       "    </tr>\n",
       "  </tbody>\n",
       "</table>\n",
       "</div>"
      ],
      "text/plain": [
       "      Model  Accuracy  Recall  Precision  F1-Score  Specificity\n",
       "0  ResNet50     0.989   0.989   0.989076  0.988985     0.996333"
      ]
     },
     "execution_count": 40,
     "metadata": {},
     "output_type": "execute_result"
    }
   ],
   "source": [
    "add_global_metrics(\n",
    "    \"ResNet50\",\n",
    "    resnet50_test_results[0][\"test_acc\"],\n",
    "    resnet50_test_results[0][\"test_rec\"],\n",
    "    resnet50_test_results[0][\"test_prec\"],\n",
    "    resnet50_test_results[0][\"test_f1\"],\n",
    "    resnet50_test_results[0][\"test_spec\"],\n",
    ")\n",
    "\n",
    "global_metrics"
   ]
  },
  {
   "cell_type": "markdown",
   "id": "8f19291f",
   "metadata": {},
   "source": [
    "Métricas globales para Yolo v11"
   ]
  },
  {
   "cell_type": "code",
   "execution_count": null,
   "id": "050877db",
   "metadata": {},
   "outputs": [
    {
     "name": "stderr",
     "output_type": "stream",
     "text": [
      "GPU available: True (cuda), used: True\n",
      "TPU available: False, using: 0 TPU cores\n",
      "HPU available: False, using: 0 HPUs\n",
      "LOCAL_RANK: 0 - CUDA_VISIBLE_DEVICES: [0]\n"
     ]
    },
    {
     "data": {
      "application/vnd.jupyter.widget-view+json": {
       "model_id": "2fecc1ca776d48ebaa80bcc020ae35bd",
       "version_major": 2,
       "version_minor": 0
      },
      "text/plain": [
       "Output()"
      ]
     },
     "metadata": {},
     "output_type": "display_data"
    },
    {
     "data": {
      "text/html": [
       "<pre style=\"white-space:pre;overflow-x:auto;line-height:normal;font-family:Menlo,'DejaVu Sans Mono',consolas,'Courier New',monospace\">┏━━━━━━━━━━━━━━━━━━━━━━━━━━━┳━━━━━━━━━━━━━━━━━━━━━━━━━━━┓\n",
       "┃<span style=\"font-weight: bold\">        Test metric        </span>┃<span style=\"font-weight: bold\">       DataLoader 0        </span>┃\n",
       "┡━━━━━━━━━━━━━━━━━━━━━━━━━━━╇━━━━━━━━━━━━━━━━━━━━━━━━━━━┩\n",
       "│<span style=\"color: #008080; text-decoration-color: #008080\">         test_acc          </span>│<span style=\"color: #800080; text-decoration-color: #800080\">    0.9589999914169312     </span>│\n",
       "│<span style=\"color: #008080; text-decoration-color: #008080\">          test_f1          </span>│<span style=\"color: #800080; text-decoration-color: #800080\">    0.9590635299682617     </span>│\n",
       "│<span style=\"color: #008080; text-decoration-color: #008080\">         test_loss         </span>│<span style=\"color: #800080; text-decoration-color: #800080\">    0.8083145618438721     </span>│\n",
       "│<span style=\"color: #008080; text-decoration-color: #008080\">         test_prec         </span>│<span style=\"color: #800080; text-decoration-color: #800080\">    0.9593623280525208     </span>│\n",
       "│<span style=\"color: #008080; text-decoration-color: #008080\">         test_rec          </span>│<span style=\"color: #800080; text-decoration-color: #800080\">    0.9589999914169312     </span>│\n",
       "│<span style=\"color: #008080; text-decoration-color: #008080\">         test_spec         </span>│<span style=\"color: #800080; text-decoration-color: #800080\">    0.9863333106040955     </span>│\n",
       "└───────────────────────────┴───────────────────────────┘\n",
       "</pre>\n"
      ],
      "text/plain": [
       "┏━━━━━━━━━━━━━━━━━━━━━━━━━━━┳━━━━━━━━━━━━━━━━━━━━━━━━━━━┓\n",
       "┃\u001b[1m \u001b[0m\u001b[1m       Test metric       \u001b[0m\u001b[1m \u001b[0m┃\u001b[1m \u001b[0m\u001b[1m      DataLoader 0       \u001b[0m\u001b[1m \u001b[0m┃\n",
       "┡━━━━━━━━━━━━━━━━━━━━━━━━━━━╇━━━━━━━━━━━━━━━━━━━━━━━━━━━┩\n",
       "│\u001b[36m \u001b[0m\u001b[36m        test_acc         \u001b[0m\u001b[36m \u001b[0m│\u001b[35m \u001b[0m\u001b[35m   0.9589999914169312    \u001b[0m\u001b[35m \u001b[0m│\n",
       "│\u001b[36m \u001b[0m\u001b[36m         test_f1         \u001b[0m\u001b[36m \u001b[0m│\u001b[35m \u001b[0m\u001b[35m   0.9590635299682617    \u001b[0m\u001b[35m \u001b[0m│\n",
       "│\u001b[36m \u001b[0m\u001b[36m        test_loss        \u001b[0m\u001b[36m \u001b[0m│\u001b[35m \u001b[0m\u001b[35m   0.8083145618438721    \u001b[0m\u001b[35m \u001b[0m│\n",
       "│\u001b[36m \u001b[0m\u001b[36m        test_prec        \u001b[0m\u001b[36m \u001b[0m│\u001b[35m \u001b[0m\u001b[35m   0.9593623280525208    \u001b[0m\u001b[35m \u001b[0m│\n",
       "│\u001b[36m \u001b[0m\u001b[36m        test_rec         \u001b[0m\u001b[36m \u001b[0m│\u001b[35m \u001b[0m\u001b[35m   0.9589999914169312    \u001b[0m\u001b[35m \u001b[0m│\n",
       "│\u001b[36m \u001b[0m\u001b[36m        test_spec        \u001b[0m\u001b[36m \u001b[0m│\u001b[35m \u001b[0m\u001b[35m   0.9863333106040955    \u001b[0m\u001b[35m \u001b[0m│\n",
       "└───────────────────────────┴───────────────────────────┘\n"
      ]
     },
     "metadata": {},
     "output_type": "display_data"
    },
    {
     "data": {
      "text/html": [
       "<pre style=\"white-space:pre;overflow-x:auto;line-height:normal;font-family:Menlo,'DejaVu Sans Mono',consolas,'Courier New',monospace\"></pre>\n"
      ],
      "text/plain": []
     },
     "metadata": {},
     "output_type": "display_data"
    }
   ],
   "source": [
    "from shared_definitions import YOLOv11Classifier, create_trainer\n",
    "\n",
    "trainer = create_trainer(\n",
    "    logger_name=\"test_yolo11_lung_colon\",\n",
    "    filename=\"best-hf-yolo11\",\n",
    ")\n",
    "\n",
    "best_yolo11 = YOLOv11Classifier.load_from_checkpoint(\n",
    "    \"tb_logs/yolov11_lung_colon/version_0/checkpoints/best-hf-yolov11.ckpt\"\n",
    ")\n",
    "best_yolo11.eval()\n",
    "\n",
    "yolo11_test_results = trainer.test(best_yolo11, datamodule=data)"
   ]
  },
  {
   "cell_type": "code",
   "execution_count": 41,
   "id": "43b4b406",
   "metadata": {},
   "outputs": [
    {
     "data": {
      "text/html": [
       "<div>\n",
       "<style scoped>\n",
       "    .dataframe tbody tr th:only-of-type {\n",
       "        vertical-align: middle;\n",
       "    }\n",
       "\n",
       "    .dataframe tbody tr th {\n",
       "        vertical-align: top;\n",
       "    }\n",
       "\n",
       "    .dataframe thead th {\n",
       "        text-align: right;\n",
       "    }\n",
       "</style>\n",
       "<table border=\"1\" class=\"dataframe\">\n",
       "  <thead>\n",
       "    <tr style=\"text-align: right;\">\n",
       "      <th></th>\n",
       "      <th>Model</th>\n",
       "      <th>Accuracy</th>\n",
       "      <th>Recall</th>\n",
       "      <th>Precision</th>\n",
       "      <th>F1-Score</th>\n",
       "      <th>Specificity</th>\n",
       "    </tr>\n",
       "  </thead>\n",
       "  <tbody>\n",
       "    <tr>\n",
       "      <th>0</th>\n",
       "      <td>ResNet50</td>\n",
       "      <td>0.989</td>\n",
       "      <td>0.989</td>\n",
       "      <td>0.989076</td>\n",
       "      <td>0.988985</td>\n",
       "      <td>0.996333</td>\n",
       "    </tr>\n",
       "    <tr>\n",
       "      <th>1</th>\n",
       "      <td>Yolo v11</td>\n",
       "      <td>0.959</td>\n",
       "      <td>0.959</td>\n",
       "      <td>0.959362</td>\n",
       "      <td>0.959064</td>\n",
       "      <td>0.986333</td>\n",
       "    </tr>\n",
       "  </tbody>\n",
       "</table>\n",
       "</div>"
      ],
      "text/plain": [
       "      Model  Accuracy  Recall  Precision  F1-Score  Specificity\n",
       "0  ResNet50     0.989   0.989   0.989076  0.988985     0.996333\n",
       "1  Yolo v11     0.959   0.959   0.959362  0.959064     0.986333"
      ]
     },
     "execution_count": 41,
     "metadata": {},
     "output_type": "execute_result"
    }
   ],
   "source": [
    "add_global_metrics(\n",
    "    \"Yolo v11\",\n",
    "    yolo11_test_results[0][\"test_acc\"],\n",
    "    yolo11_test_results[0][\"test_rec\"],\n",
    "    yolo11_test_results[0][\"test_prec\"],\n",
    "    yolo11_test_results[0][\"test_f1\"],\n",
    "    yolo11_test_results[0][\"test_spec\"],\n",
    ")\n",
    "\n",
    "global_metrics"
   ]
  },
  {
   "cell_type": "markdown",
   "id": "96b0c5b1",
   "metadata": {},
   "source": [
    "Métricas globales para Inception v4"
   ]
  },
  {
   "cell_type": "code",
   "execution_count": null,
   "id": "6610ff06",
   "metadata": {},
   "outputs": [
    {
     "name": "stderr",
     "output_type": "stream",
     "text": [
      "GPU available: True (cuda), used: True\n",
      "TPU available: False, using: 0 TPU cores\n",
      "HPU available: False, using: 0 HPUs\n",
      "Some weights of TimmWrapperForImageClassification were not initialized from the model checkpoint at timm/inception_v4.tf_in1k and are newly initialized because the shapes did not match:\n",
      "- timm_model.last_linear.bias: found shape torch.Size([1000]) in the checkpoint and torch.Size([4]) in the model instantiated\n",
      "- timm_model.last_linear.weight: found shape torch.Size([1000, 1536]) in the checkpoint and torch.Size([4, 1536]) in the model instantiated\n",
      "You should probably TRAIN this model on a down-stream task to be able to use it for predictions and inference.\n",
      "LOCAL_RANK: 0 - CUDA_VISIBLE_DEVICES: [0]\n"
     ]
    },
    {
     "data": {
      "application/vnd.jupyter.widget-view+json": {
       "model_id": "4d1a48df637d40f4b2d979d5d4777d29",
       "version_major": 2,
       "version_minor": 0
      },
      "text/plain": [
       "Output()"
      ]
     },
     "metadata": {},
     "output_type": "display_data"
    },
    {
     "data": {
      "text/html": [
       "<pre style=\"white-space:pre;overflow-x:auto;line-height:normal;font-family:Menlo,'DejaVu Sans Mono',consolas,'Courier New',monospace\">┏━━━━━━━━━━━━━━━━━━━━━━━━━━━┳━━━━━━━━━━━━━━━━━━━━━━━━━━━┓\n",
       "┃<span style=\"font-weight: bold\">        Test metric        </span>┃<span style=\"font-weight: bold\">       DataLoader 0        </span>┃\n",
       "┡━━━━━━━━━━━━━━━━━━━━━━━━━━━╇━━━━━━━━━━━━━━━━━━━━━━━━━━━┩\n",
       "│<span style=\"color: #008080; text-decoration-color: #008080\">         test_acc          </span>│<span style=\"color: #800080; text-decoration-color: #800080\">    0.9539999961853027     </span>│\n",
       "│<span style=\"color: #008080; text-decoration-color: #008080\">          test_f1          </span>│<span style=\"color: #800080; text-decoration-color: #800080\">    0.9539310932159424     </span>│\n",
       "│<span style=\"color: #008080; text-decoration-color: #008080\">         test_loss         </span>│<span style=\"color: #800080; text-decoration-color: #800080\">    0.1384645700454712     </span>│\n",
       "│<span style=\"color: #008080; text-decoration-color: #008080\">         test_prec         </span>│<span style=\"color: #800080; text-decoration-color: #800080\">    0.9541419148445129     </span>│\n",
       "│<span style=\"color: #008080; text-decoration-color: #008080\">         test_rec          </span>│<span style=\"color: #800080; text-decoration-color: #800080\">    0.9539999961853027     </span>│\n",
       "│<span style=\"color: #008080; text-decoration-color: #008080\">         test_spec         </span>│<span style=\"color: #800080; text-decoration-color: #800080\">    0.9846667051315308     </span>│\n",
       "└───────────────────────────┴───────────────────────────┘\n",
       "</pre>\n"
      ],
      "text/plain": [
       "┏━━━━━━━━━━━━━━━━━━━━━━━━━━━┳━━━━━━━━━━━━━━━━━━━━━━━━━━━┓\n",
       "┃\u001b[1m \u001b[0m\u001b[1m       Test metric       \u001b[0m\u001b[1m \u001b[0m┃\u001b[1m \u001b[0m\u001b[1m      DataLoader 0       \u001b[0m\u001b[1m \u001b[0m┃\n",
       "┡━━━━━━━━━━━━━━━━━━━━━━━━━━━╇━━━━━━━━━━━━━━━━━━━━━━━━━━━┩\n",
       "│\u001b[36m \u001b[0m\u001b[36m        test_acc         \u001b[0m\u001b[36m \u001b[0m│\u001b[35m \u001b[0m\u001b[35m   0.9539999961853027    \u001b[0m\u001b[35m \u001b[0m│\n",
       "│\u001b[36m \u001b[0m\u001b[36m         test_f1         \u001b[0m\u001b[36m \u001b[0m│\u001b[35m \u001b[0m\u001b[35m   0.9539310932159424    \u001b[0m\u001b[35m \u001b[0m│\n",
       "│\u001b[36m \u001b[0m\u001b[36m        test_loss        \u001b[0m\u001b[36m \u001b[0m│\u001b[35m \u001b[0m\u001b[35m   0.1384645700454712    \u001b[0m\u001b[35m \u001b[0m│\n",
       "│\u001b[36m \u001b[0m\u001b[36m        test_prec        \u001b[0m\u001b[36m \u001b[0m│\u001b[35m \u001b[0m\u001b[35m   0.9541419148445129    \u001b[0m\u001b[35m \u001b[0m│\n",
       "│\u001b[36m \u001b[0m\u001b[36m        test_rec         \u001b[0m\u001b[36m \u001b[0m│\u001b[35m \u001b[0m\u001b[35m   0.9539999961853027    \u001b[0m\u001b[35m \u001b[0m│\n",
       "│\u001b[36m \u001b[0m\u001b[36m        test_spec        \u001b[0m\u001b[36m \u001b[0m│\u001b[35m \u001b[0m\u001b[35m   0.9846667051315308    \u001b[0m\u001b[35m \u001b[0m│\n",
       "└───────────────────────────┴───────────────────────────┘\n"
      ]
     },
     "metadata": {},
     "output_type": "display_data"
    },
    {
     "data": {
      "text/html": [
       "<pre style=\"white-space:pre;overflow-x:auto;line-height:normal;font-family:Menlo,'DejaVu Sans Mono',consolas,'Courier New',monospace\"></pre>\n"
      ],
      "text/plain": []
     },
     "metadata": {},
     "output_type": "display_data"
    }
   ],
   "source": [
    "from shared_definitions import InceptionV4Classifier, create_trainer\n",
    "\n",
    "trainer = create_trainer(\n",
    "    logger_name=\"test_inceptionv4_lung_colon\",\n",
    "    filename=\"best-hf-inceptionv4\",\n",
    ")\n",
    "\n",
    "best_inceptionv4 = InceptionV4Classifier.load_from_checkpoint(\n",
    "    \"tb_logs/inceptionv4_lung_colon/version_0/checkpoints/best-hf-inceptionv4.ckpt\"\n",
    ")\n",
    "best_inceptionv4.eval()\n",
    "\n",
    "inceptionv4_test_results = trainer.test(best_inceptionv4, datamodule=data)"
   ]
  },
  {
   "cell_type": "code",
   "execution_count": 42,
   "id": "ff188772",
   "metadata": {},
   "outputs": [
    {
     "data": {
      "text/html": [
       "<div>\n",
       "<style scoped>\n",
       "    .dataframe tbody tr th:only-of-type {\n",
       "        vertical-align: middle;\n",
       "    }\n",
       "\n",
       "    .dataframe tbody tr th {\n",
       "        vertical-align: top;\n",
       "    }\n",
       "\n",
       "    .dataframe thead th {\n",
       "        text-align: right;\n",
       "    }\n",
       "</style>\n",
       "<table border=\"1\" class=\"dataframe\">\n",
       "  <thead>\n",
       "    <tr style=\"text-align: right;\">\n",
       "      <th></th>\n",
       "      <th>Model</th>\n",
       "      <th>Accuracy</th>\n",
       "      <th>Recall</th>\n",
       "      <th>Precision</th>\n",
       "      <th>F1-Score</th>\n",
       "      <th>Specificity</th>\n",
       "    </tr>\n",
       "  </thead>\n",
       "  <tbody>\n",
       "    <tr>\n",
       "      <th>0</th>\n",
       "      <td>ResNet50</td>\n",
       "      <td>0.989</td>\n",
       "      <td>0.989</td>\n",
       "      <td>0.989076</td>\n",
       "      <td>0.988985</td>\n",
       "      <td>0.996333</td>\n",
       "    </tr>\n",
       "    <tr>\n",
       "      <th>1</th>\n",
       "      <td>Yolo v11</td>\n",
       "      <td>0.959</td>\n",
       "      <td>0.959</td>\n",
       "      <td>0.959362</td>\n",
       "      <td>0.959064</td>\n",
       "      <td>0.986333</td>\n",
       "    </tr>\n",
       "    <tr>\n",
       "      <th>2</th>\n",
       "      <td>Inception v4</td>\n",
       "      <td>0.954</td>\n",
       "      <td>0.954</td>\n",
       "      <td>0.954142</td>\n",
       "      <td>0.953931</td>\n",
       "      <td>0.984667</td>\n",
       "    </tr>\n",
       "  </tbody>\n",
       "</table>\n",
       "</div>"
      ],
      "text/plain": [
       "          Model  Accuracy  Recall  Precision  F1-Score  Specificity\n",
       "0      ResNet50     0.989   0.989   0.989076  0.988985     0.996333\n",
       "1      Yolo v11     0.959   0.959   0.959362  0.959064     0.986333\n",
       "2  Inception v4     0.954   0.954   0.954142  0.953931     0.984667"
      ]
     },
     "execution_count": 42,
     "metadata": {},
     "output_type": "execute_result"
    }
   ],
   "source": [
    "add_global_metrics(\n",
    "    \"Inception v4\",\n",
    "    inceptionv4_test_results[0][\"test_acc\"],\n",
    "    inceptionv4_test_results[0][\"test_rec\"],\n",
    "    inceptionv4_test_results[0][\"test_prec\"],\n",
    "    inceptionv4_test_results[0][\"test_f1\"],\n",
    "    inceptionv4_test_results[0][\"test_spec\"],\n",
    ")\n",
    "\n",
    "global_metrics"
   ]
  },
  {
   "cell_type": "markdown",
   "id": "b732887f",
   "metadata": {},
   "source": [
    "## Matrices de confusión"
   ]
  },
  {
   "cell_type": "code",
   "execution_count": 75,
   "id": "c74b1a3b",
   "metadata": {},
   "outputs": [],
   "source": [
    "from shared_definitions import print_confusion_matrix"
   ]
  },
  {
   "cell_type": "markdown",
   "id": "4a0339f6",
   "metadata": {},
   "source": [
    "Matriz de confusión para ResNet 50"
   ]
  },
  {
   "cell_type": "code",
   "execution_count": 76,
   "id": "150b09f5",
   "metadata": {},
   "outputs": [
    {
     "name": "stderr",
     "output_type": "stream",
     "text": [
      "Inferencia: 100%|██████████| 32/32 [06:14<00:00, 11.70s/it]\n"
     ]
    },
    {
     "data": {
      "image/png": "[encoded data removed]",
      "text/plain": [
       "<Figure size 600x500 with 2 Axes>"
      ]
     },
     "metadata": {},
     "output_type": "display_data"
    }
   ],
   "source": [
    "print_confusion_matrix(\n",
    "    best_resnet50,\n",
    "    data,\n",
    ")"
   ]
  },
  {
   "cell_type": "markdown",
   "id": "5675d3b3",
   "metadata": {},
   "source": [
    "Matriz de confusión para Yolo 11"
   ]
  },
  {
   "cell_type": "code",
   "execution_count": 77,
   "id": "f6aa158d",
   "metadata": {},
   "outputs": [
    {
     "name": "stderr",
     "output_type": "stream",
     "text": [
      "Inferencia: 100%|██████████| 32/32 [00:22<00:00,  1.45it/s]\n"
     ]
    },
    {
     "data": {
      "image/png": "[encoded data removed]",
      "text/plain": [
       "<Figure size 600x500 with 2 Axes>"
      ]
     },
     "metadata": {},
     "output_type": "display_data"
    }
   ],
   "source": [
    "print_confusion_matrix(\n",
    "    best_yolo11,\n",
    "    data,\n",
    ")"
   ]
  },
  {
   "cell_type": "markdown",
   "id": "46073fe0",
   "metadata": {},
   "source": [
    "Matriz de confusión para Inception v4"
   ]
  },
  {
   "cell_type": "code",
   "execution_count": 78,
   "id": "41cb9eb7",
   "metadata": {},
   "outputs": [
    {
     "name": "stderr",
     "output_type": "stream",
     "text": [
      "Inferencia: 100%|██████████| 32/32 [06:04<00:00, 11.40s/it]\n"
     ]
    },
    {
     "data": {
      "image/png": "[encoded data removed]",
      "text/plain": [
       "<Figure size 600x500 with 2 Axes>"
      ]
     },
     "metadata": {},
     "output_type": "display_data"
    }
   ],
   "source": [
    "print_confusion_matrix(\n",
    "    best_inceptionv4,\n",
    "    data,\n",
    ")"
   ]
  },
  {
   "cell_type": "markdown",
   "id": "99906768",
   "metadata": {},
   "source": [
    "## Obtención de métricas por clase\n",
    "\n",
    "A continuación se encuentra el código necesario para obtener estas métricas por cada una de las clases."
   ]
  },
  {
   "cell_type": "code",
   "execution_count": null,
   "id": "38c74129",
   "metadata": {},
   "outputs": [],
   "source": [
    "from shared_definitions import get_all_preds_and_labels\n",
    "from sklearn.metrics import confusion_matrix\n",
    "\n",
    "def generate_class_metrics_report(model, datamodule, model_name):\n",
    "    \"\"\"\n",
    "    Calcula Accuracy, Recall, Precision, F1-Score y Specificity para cada clase \n",
    "    y devuelve un DataFrame de Pandas.\n",
    "    \"\"\"\n",
    "    print(f\"Generando reporte de clasificación completo para: {model_name}...\")\n",
    "    \n",
    "    # Mapeo de las etiquetas originales a los nombres deseados\n",
    "    class_labels_descriptive = [\"colon_nosano\", \"colon_sano\", \"pulmon_nosano\", \"pulmon_sano\"]\n",
    "    \n",
    "    # Obtenemos las etiquetas reales y las predicciones del conjunto de test\n",
    "    y_true, y_pred = get_all_preds_and_labels(model, datamodule.test_dataloader())\n",
    "    \n",
    "    # Calculamos la matriz de confusión\n",
    "    cm = confusion_matrix(y_true, y_pred)\n",
    "    \n",
    "    metrics_per_class = []\n",
    "    \n",
    "    # Iteramos sobre cada clase para calcular sus métricas individualmente\n",
    "    for i in range(len(class_labels_descriptive)):\n",
    "        tp = cm[i, i]\n",
    "        fp = cm[:, i].sum() - tp\n",
    "        fn = cm[i, :].sum() - tp\n",
    "        tn = cm.sum() - (tp + fp + fn)\n",
    "        \n",
    "        # Calculamos las métricas\n",
    "        accuracy = (tp + tn) / (tp + tn + fp + fn)\n",
    "        recall = tp / (tp + fn) if (tp + fn) > 0 else 0\n",
    "        precision = tp / (tp + fp) if (tp + fp) > 0 else 0\n",
    "        specificity = tn / (tn + fp) if (tn + fp) > 0 else 0\n",
    "        f1_score = 2 * (precision * recall) / (precision + recall) if (precision + recall) > 0 else 0\n",
    "        \n",
    "        metrics_per_class.append({\n",
    "            \"Clase\": class_labels_descriptive[i],\n",
    "            \"Accuracy\": accuracy,\n",
    "            \"Recall\": recall,\n",
    "            \"Precision\": precision,\n",
    "            \"F1-Score\": f1_score,\n",
    "            \"Specificity\": specificity\n",
    "        })\n",
    "        \n",
    "    df_metrics = pd.DataFrame(metrics_per_class).set_index(\"Clase\")\n",
    "    \n",
    "    print(\"Reporte generado.\\n\")\n",
    "    return df_metrics"
   ]
  },
  {
   "cell_type": "code",
   "execution_count": 52,
   "id": "a4d01a7c",
   "metadata": {},
   "outputs": [
    {
     "name": "stdout",
     "output_type": "stream",
     "text": [
      "Generando reporte de clasificación completo para: ResNet-50...\n"
     ]
    },
    {
     "name": "stderr",
     "output_type": "stream",
     "text": [
      "Inferencia: 100%|██████████| 32/32 [06:02<00:00, 11.32s/it]"
     ]
    },
    {
     "name": "stdout",
     "output_type": "stream",
     "text": [
      "Reporte generado.\n",
      "\n"
     ]
    },
    {
     "name": "stderr",
     "output_type": "stream",
     "text": [
      "\n"
     ]
    },
    {
     "data": {
      "text/html": [
       "<div>\n",
       "<style scoped>\n",
       "    .dataframe tbody tr th:only-of-type {\n",
       "        vertical-align: middle;\n",
       "    }\n",
       "\n",
       "    .dataframe tbody tr th {\n",
       "        vertical-align: top;\n",
       "    }\n",
       "\n",
       "    .dataframe thead th {\n",
       "        text-align: right;\n",
       "    }\n",
       "</style>\n",
       "<table border=\"1\" class=\"dataframe\">\n",
       "  <thead>\n",
       "    <tr style=\"text-align: right;\">\n",
       "      <th></th>\n",
       "      <th>Accuracy</th>\n",
       "      <th>Recall</th>\n",
       "      <th>Precision</th>\n",
       "      <th>F1-Score</th>\n",
       "      <th>Specificity</th>\n",
       "    </tr>\n",
       "    <tr>\n",
       "      <th>Clase</th>\n",
       "      <th></th>\n",
       "      <th></th>\n",
       "      <th></th>\n",
       "      <th></th>\n",
       "      <th></th>\n",
       "    </tr>\n",
       "  </thead>\n",
       "  <tbody>\n",
       "    <tr>\n",
       "      <th>colon_nosano</th>\n",
       "      <td>0.9935</td>\n",
       "      <td>0.982</td>\n",
       "      <td>0.991919</td>\n",
       "      <td>0.986935</td>\n",
       "      <td>0.997333</td>\n",
       "    </tr>\n",
       "    <tr>\n",
       "      <th>colon_sano</th>\n",
       "      <td>0.9955</td>\n",
       "      <td>0.996</td>\n",
       "      <td>0.986139</td>\n",
       "      <td>0.991045</td>\n",
       "      <td>0.995333</td>\n",
       "    </tr>\n",
       "    <tr>\n",
       "      <th>pulmon_nosano</th>\n",
       "      <td>0.9935</td>\n",
       "      <td>0.978</td>\n",
       "      <td>0.995927</td>\n",
       "      <td>0.986882</td>\n",
       "      <td>0.998667</td>\n",
       "    </tr>\n",
       "    <tr>\n",
       "      <th>pulmon_sano</th>\n",
       "      <td>0.9955</td>\n",
       "      <td>1.000</td>\n",
       "      <td>0.982318</td>\n",
       "      <td>0.991080</td>\n",
       "      <td>0.994000</td>\n",
       "    </tr>\n",
       "  </tbody>\n",
       "</table>\n",
       "</div>"
      ],
      "text/plain": [
       "               Accuracy  Recall  Precision  F1-Score  Specificity\n",
       "Clase                                                            \n",
       "colon_nosano     0.9935   0.982   0.991919  0.986935     0.997333\n",
       "colon_sano       0.9955   0.996   0.986139  0.991045     0.995333\n",
       "pulmon_nosano    0.9935   0.978   0.995927  0.986882     0.998667\n",
       "pulmon_sano      0.9955   1.000   0.982318  0.991080     0.994000"
      ]
     },
     "metadata": {},
     "output_type": "display_data"
    }
   ],
   "source": [
    "resnet50_class_metrics = generate_class_metrics_report(best_resnet50, data, \"ResNet-50\")\n",
    "display(resnet50_class_metrics)"
   ]
  },
  {
   "cell_type": "code",
   "execution_count": 55,
   "id": "a597499b",
   "metadata": {},
   "outputs": [
    {
     "name": "stdout",
     "output_type": "stream",
     "text": [
      "Generando reporte de clasificación completo para: YOLO v11...\n"
     ]
    },
    {
     "name": "stderr",
     "output_type": "stream",
     "text": [
      "Inferencia: 100%|██████████| 32/32 [00:24<00:00,  1.32it/s]"
     ]
    },
    {
     "name": "stdout",
     "output_type": "stream",
     "text": [
      "Reporte generado.\n",
      "\n"
     ]
    },
    {
     "name": "stderr",
     "output_type": "stream",
     "text": [
      "\n"
     ]
    },
    {
     "data": {
      "text/html": [
       "<div>\n",
       "<style scoped>\n",
       "    .dataframe tbody tr th:only-of-type {\n",
       "        vertical-align: middle;\n",
       "    }\n",
       "\n",
       "    .dataframe tbody tr th {\n",
       "        vertical-align: top;\n",
       "    }\n",
       "\n",
       "    .dataframe thead th {\n",
       "        text-align: right;\n",
       "    }\n",
       "</style>\n",
       "<table border=\"1\" class=\"dataframe\">\n",
       "  <thead>\n",
       "    <tr style=\"text-align: right;\">\n",
       "      <th></th>\n",
       "      <th>Accuracy</th>\n",
       "      <th>Recall</th>\n",
       "      <th>Precision</th>\n",
       "      <th>F1-Score</th>\n",
       "      <th>Specificity</th>\n",
       "    </tr>\n",
       "    <tr>\n",
       "      <th>Clase</th>\n",
       "      <th></th>\n",
       "      <th></th>\n",
       "      <th></th>\n",
       "      <th></th>\n",
       "      <th></th>\n",
       "    </tr>\n",
       "  </thead>\n",
       "  <tbody>\n",
       "    <tr>\n",
       "      <th>colon_nosano</th>\n",
       "      <td>0.970</td>\n",
       "      <td>0.938</td>\n",
       "      <td>0.941767</td>\n",
       "      <td>0.939880</td>\n",
       "      <td>0.980667</td>\n",
       "    </tr>\n",
       "    <tr>\n",
       "      <th>colon_sano</th>\n",
       "      <td>0.979</td>\n",
       "      <td>0.976</td>\n",
       "      <td>0.942085</td>\n",
       "      <td>0.958743</td>\n",
       "      <td>0.980000</td>\n",
       "    </tr>\n",
       "    <tr>\n",
       "      <th>pulmon_nosano</th>\n",
       "      <td>0.978</td>\n",
       "      <td>0.954</td>\n",
       "      <td>0.957831</td>\n",
       "      <td>0.955912</td>\n",
       "      <td>0.986000</td>\n",
       "    </tr>\n",
       "    <tr>\n",
       "      <th>pulmon_sano</th>\n",
       "      <td>0.990</td>\n",
       "      <td>0.966</td>\n",
       "      <td>0.993827</td>\n",
       "      <td>0.979716</td>\n",
       "      <td>0.998000</td>\n",
       "    </tr>\n",
       "  </tbody>\n",
       "</table>\n",
       "</div>"
      ],
      "text/plain": [
       "               Accuracy  Recall  Precision  F1-Score  Specificity\n",
       "Clase                                                            \n",
       "colon_nosano      0.970   0.938   0.941767  0.939880     0.980667\n",
       "colon_sano        0.979   0.976   0.942085  0.958743     0.980000\n",
       "pulmon_nosano     0.978   0.954   0.957831  0.955912     0.986000\n",
       "pulmon_sano       0.990   0.966   0.993827  0.979716     0.998000"
      ]
     },
     "metadata": {},
     "output_type": "display_data"
    }
   ],
   "source": [
    "yolo11_class_metrics = generate_class_metrics_report(best_yolo11, data, \"YOLO v11\")\n",
    "display(yolo11_class_metrics)"
   ]
  },
  {
   "cell_type": "code",
   "execution_count": 56,
   "id": "42677708",
   "metadata": {},
   "outputs": [
    {
     "name": "stdout",
     "output_type": "stream",
     "text": [
      "Generando reporte de clasificación completo para: Inception v4...\n"
     ]
    },
    {
     "name": "stderr",
     "output_type": "stream",
     "text": [
      "Inferencia: 100%|██████████| 32/32 [05:49<00:00, 10.92s/it]"
     ]
    },
    {
     "name": "stdout",
     "output_type": "stream",
     "text": [
      "Reporte generado.\n",
      "\n"
     ]
    },
    {
     "name": "stderr",
     "output_type": "stream",
     "text": [
      "\n"
     ]
    },
    {
     "data": {
      "text/html": [
       "<div>\n",
       "<style scoped>\n",
       "    .dataframe tbody tr th:only-of-type {\n",
       "        vertical-align: middle;\n",
       "    }\n",
       "\n",
       "    .dataframe tbody tr th {\n",
       "        vertical-align: top;\n",
       "    }\n",
       "\n",
       "    .dataframe thead th {\n",
       "        text-align: right;\n",
       "    }\n",
       "</style>\n",
       "<table border=\"1\" class=\"dataframe\">\n",
       "  <thead>\n",
       "    <tr style=\"text-align: right;\">\n",
       "      <th></th>\n",
       "      <th>Accuracy</th>\n",
       "      <th>Recall</th>\n",
       "      <th>Precision</th>\n",
       "      <th>F1-Score</th>\n",
       "      <th>Specificity</th>\n",
       "    </tr>\n",
       "    <tr>\n",
       "      <th>Clase</th>\n",
       "      <th></th>\n",
       "      <th></th>\n",
       "      <th></th>\n",
       "      <th></th>\n",
       "      <th></th>\n",
       "    </tr>\n",
       "  </thead>\n",
       "  <tbody>\n",
       "    <tr>\n",
       "      <th>colon_nosano</th>\n",
       "      <td>0.9640</td>\n",
       "      <td>0.938</td>\n",
       "      <td>0.919608</td>\n",
       "      <td>0.928713</td>\n",
       "      <td>0.972667</td>\n",
       "    </tr>\n",
       "    <tr>\n",
       "      <th>colon_sano</th>\n",
       "      <td>0.9845</td>\n",
       "      <td>0.980</td>\n",
       "      <td>0.958904</td>\n",
       "      <td>0.969337</td>\n",
       "      <td>0.986000</td>\n",
       "    </tr>\n",
       "    <tr>\n",
       "      <th>pulmon_nosano</th>\n",
       "      <td>0.9665</td>\n",
       "      <td>0.914</td>\n",
       "      <td>0.950104</td>\n",
       "      <td>0.931702</td>\n",
       "      <td>0.984000</td>\n",
       "    </tr>\n",
       "    <tr>\n",
       "      <th>pulmon_sano</th>\n",
       "      <td>0.9930</td>\n",
       "      <td>0.984</td>\n",
       "      <td>0.987952</td>\n",
       "      <td>0.985972</td>\n",
       "      <td>0.996000</td>\n",
       "    </tr>\n",
       "  </tbody>\n",
       "</table>\n",
       "</div>"
      ],
      "text/plain": [
       "               Accuracy  Recall  Precision  F1-Score  Specificity\n",
       "Clase                                                            \n",
       "colon_nosano     0.9640   0.938   0.919608  0.928713     0.972667\n",
       "colon_sano       0.9845   0.980   0.958904  0.969337     0.986000\n",
       "pulmon_nosano    0.9665   0.914   0.950104  0.931702     0.984000\n",
       "pulmon_sano      0.9930   0.984   0.987952  0.985972     0.996000"
      ]
     },
     "metadata": {},
     "output_type": "display_data"
    }
   ],
   "source": [
    "inceptionv4_class_metrics = generate_class_metrics_report(best_inceptionv4, data, \"Inception v4\")\n",
    "display(inceptionv4_class_metrics)"
   ]
  },
  {
   "cell_type": "markdown",
   "id": "5325ad72",
   "metadata": {},
   "source": [
    "## Análisis agregado\n",
    "\n",
    "En el estudio primario también se propuso obtener métricas en cuanto a la tarea binaria de clasificación por tipo de tejido vs la clasificación por estado patológico. En esta sección se encuentra el código utilizado para ello."
   ]
  },
  {
   "cell_type": "code",
   "execution_count": null,
   "id": "0104c2f9",
   "metadata": {},
   "outputs": [],
   "source": [
    "import matplotlib.pyplot as plt\n",
    "import seaborn as sns\n",
    "import numpy as np\n",
    "\n",
    "def analyze_aggregated_tasks(model, datamodule, model_name):\n",
    "    \"\"\"\n",
    "    Realiza análisis de agregación para las tareas de clasificación de\n",
    "    Tipo de Tejido (Colon vs. Pulmón) y Estado Patológico (Sano vs. No Sano).\n",
    "\n",
    "    Para un modelo dado, esta función:\n",
    "    1. Obtiene las predicciones originales (4 clases).\n",
    "    2. Agrega las clases para cada subtarea.\n",
    "    3. Calcula y muestra una matriz de confusión 2x2 para cada subtarea.\n",
    "    4. Calcula y muestra una tabla de métricas completas para cada subtarea.\n",
    "    5. Devuelve los dataframes de métricas para su posterior comparación.\n",
    "    \"\"\"\n",
    "    print(f\"--- Iniciando análisis agregado para el modelo: {model_name} ---\")\n",
    "    \n",
    "    # 1. OBTENER PREDICCIONES ORIGINALES\n",
    "    y_true, y_pred = get_all_preds_and_labels(model, datamodule.test_dataloader())\n",
    "    \n",
    "    # Índices originales: 0:colon_nosano, 1:colon_sano, 2:pulmon_nosano, 3:pulmon_sano\n",
    "    \n",
    "    # 2. TAREA 1: AGREGACIÓN POR TIPO DE TEJIDO (Colon vs. Pulmón)\n",
    "    # Mapeo: Colon -> 0, Pulmón -> 1\n",
    "    tissue_mapping = {0: 0, 1: 0, 2: 1, 3: 1}\n",
    "    y_true_tissue = np.vectorize(tissue_mapping.get)(y_true)\n",
    "    y_pred_tissue = np.vectorize(tissue_mapping.get)(y_pred)\n",
    "    tissue_labels = [\"Colon\", \"Pulmón\"]\n",
    "    \n",
    "    # 3. TAREA 2: AGREGACIÓN POR ESTADO PATOLÓGICO (Sano vs. No Sano)\n",
    "    # Mapeo: No Sano -> 0, Sano -> 1\n",
    "    state_mapping = {0: 0, 1: 1, 2: 0, 3: 1}\n",
    "    y_true_state = np.vectorize(state_mapping.get)(y_true)\n",
    "    y_pred_state = np.vectorize(state_mapping.get)(y_pred)\n",
    "    state_labels = [\"No Sano\", \"Sano\"]\n",
    "\n",
    "    # Función auxiliar para calcular métricas y visualizar\n",
    "    def _calculate_and_display(y_true_agg, y_pred_agg, task_name, class_labels):\n",
    "        # Calcular Matriz de Confusión 2x2\n",
    "        cm_agg = confusion_matrix(y_true_agg, y_pred_agg)\n",
    "        \n",
    "        # Visualizar Matriz\n",
    "        plt.figure(figsize=(5, 4))\n",
    "        sns.heatmap(cm_agg, annot=True, fmt='d', cmap='Blues', \n",
    "                    xticklabels=class_labels, yticklabels=class_labels)\n",
    "        plt.title(f'Matriz de Confusión - {task_name}\\n({model_name})')\n",
    "        plt.xlabel('Predicho')\n",
    "        plt.ylabel('Real')\n",
    "        plt.show()\n",
    "\n",
    "        # Calcular Métricas Binarias\n",
    "        tn, fp, fn, tp = cm_agg.ravel()\n",
    "        accuracy = (tp + tn) / (tp + tn + fp + fn)\n",
    "        recall = tp / (tp + fn) if (tp + fn) > 0 else 0\n",
    "        specificity = tn / (tn + fp) if (tn + fp) > 0 else 0\n",
    "        precision = tp / (tp + fp) if (tp + fp) > 0 else 0\n",
    "        f1_score = 2 * (precision * recall) / (precision + recall) if (precision + recall) > 0 else 0\n",
    "        \n",
    "        metrics = {\n",
    "            \"Accuracy\": accuracy, \"Recall (Sensitivity)\": recall, \"Specificity\": specificity,\n",
    "            \"Precision\": precision, \"F1-Score\": f1_score\n",
    "        }\n",
    "        df_metrics = pd.DataFrame([metrics])\n",
    "        \n",
    "        print(f\"Métricas de Rendimiento - {task_name} ({model_name}):\")\n",
    "        display(df_metrics)\n",
    "        return df_metrics\n",
    "\n",
    "    # Ejecutar para ambas tareas\n",
    "    print(\"\\n[ TAREA: TIPO DE TEJIDO ]\")\n",
    "    tissue_metrics = _calculate_and_display(y_true_tissue, y_pred_tissue, \"Tipo de Tejido\", tissue_labels)\n",
    "    \n",
    "    print(\"\\n[ TAREA: ESTADO PATOLÓGICO ]\")\n",
    "    state_metrics = _calculate_and_display(y_true_state, y_pred_state, \"Estado Patológico\", state_labels)\n",
    "    \n",
    "    print(f\"--- Análisis para {model_name} completado ---\\n\")\n",
    "    return tissue_metrics, state_metrics"
   ]
  },
  {
   "cell_type": "code",
   "execution_count": 80,
   "id": "b46dd31b",
   "metadata": {},
   "outputs": [
    {
     "name": "stdout",
     "output_type": "stream",
     "text": [
      "--- Iniciando análisis agregado para el modelo: ResNet-50 ---\n"
     ]
    },
    {
     "name": "stderr",
     "output_type": "stream",
     "text": [
      "Inferencia: 100%|██████████| 32/32 [06:03<00:00, 11.36s/it]\n"
     ]
    },
    {
     "name": "stdout",
     "output_type": "stream",
     "text": [
      "\n",
      "[ TAREA: TIPO DE TEJIDO ]\n"
     ]
    },
    {
     "data": {
      "image/png": "[encoded data removed]",
      "text/plain": [
       "<Figure size 500x400 with 2 Axes>"
      ]
     },
     "metadata": {},
     "output_type": "display_data"
    },
    {
     "name": "stdout",
     "output_type": "stream",
     "text": [
      "Métricas de Rendimiento - Tipo de Tejido (ResNet-50):\n"
     ]
    },
    {
     "data": {
      "text/html": [
       "<div>\n",
       "<style scoped>\n",
       "    .dataframe tbody tr th:only-of-type {\n",
       "        vertical-align: middle;\n",
       "    }\n",
       "\n",
       "    .dataframe tbody tr th {\n",
       "        vertical-align: top;\n",
       "    }\n",
       "\n",
       "    .dataframe thead th {\n",
       "        text-align: right;\n",
       "    }\n",
       "</style>\n",
       "<table border=\"1\" class=\"dataframe\">\n",
       "  <thead>\n",
       "    <tr style=\"text-align: right;\">\n",
       "      <th></th>\n",
       "      <th>Accuracy</th>\n",
       "      <th>Recall (Sensitivity)</th>\n",
       "      <th>Specificity</th>\n",
       "      <th>Precision</th>\n",
       "      <th>F1-Score</th>\n",
       "    </tr>\n",
       "  </thead>\n",
       "  <tbody>\n",
       "    <tr>\n",
       "      <th>0</th>\n",
       "      <td>0.998</td>\n",
       "      <td>0.998</td>\n",
       "      <td>0.998</td>\n",
       "      <td>0.998</td>\n",
       "      <td>0.998</td>\n",
       "    </tr>\n",
       "  </tbody>\n",
       "</table>\n",
       "</div>"
      ],
      "text/plain": [
       "   Accuracy  Recall (Sensitivity)  Specificity  Precision  F1-Score\n",
       "0     0.998                 0.998        0.998      0.998     0.998"
      ]
     },
     "metadata": {},
     "output_type": "display_data"
    },
    {
     "name": "stdout",
     "output_type": "stream",
     "text": [
      "\n",
      "[ TAREA: ESTADO PATOLÓGICO ]\n"
     ]
    },
    {
     "data": {
      "image/png": "[encoded data removed]",
      "text/plain": [
       "<Figure size 500x400 with 2 Axes>"
      ]
     },
     "metadata": {},
     "output_type": "display_data"
    },
    {
     "name": "stdout",
     "output_type": "stream",
     "text": [
      "Métricas de Rendimiento - Estado Patológico (ResNet-50):\n"
     ]
    },
    {
     "data": {
      "text/html": [
       "<div>\n",
       "<style scoped>\n",
       "    .dataframe tbody tr th:only-of-type {\n",
       "        vertical-align: middle;\n",
       "    }\n",
       "\n",
       "    .dataframe tbody tr th {\n",
       "        vertical-align: top;\n",
       "    }\n",
       "\n",
       "    .dataframe thead th {\n",
       "        text-align: right;\n",
       "    }\n",
       "</style>\n",
       "<table border=\"1\" class=\"dataframe\">\n",
       "  <thead>\n",
       "    <tr style=\"text-align: right;\">\n",
       "      <th></th>\n",
       "      <th>Accuracy</th>\n",
       "      <th>Recall (Sensitivity)</th>\n",
       "      <th>Specificity</th>\n",
       "      <th>Precision</th>\n",
       "      <th>F1-Score</th>\n",
       "    </tr>\n",
       "  </thead>\n",
       "  <tbody>\n",
       "    <tr>\n",
       "      <th>0</th>\n",
       "      <td>0.991</td>\n",
       "      <td>0.998</td>\n",
       "      <td>0.984</td>\n",
       "      <td>0.984221</td>\n",
       "      <td>0.991063</td>\n",
       "    </tr>\n",
       "  </tbody>\n",
       "</table>\n",
       "</div>"
      ],
      "text/plain": [
       "   Accuracy  Recall (Sensitivity)  Specificity  Precision  F1-Score\n",
       "0     0.991                 0.998        0.984   0.984221  0.991063"
      ]
     },
     "metadata": {},
     "output_type": "display_data"
    },
    {
     "name": "stdout",
     "output_type": "stream",
     "text": [
      "--- Análisis para ResNet-50 completado ---\n",
      "\n",
      "--- Iniciando análisis agregado para el modelo: YOLO v11 ---\n"
     ]
    },
    {
     "name": "stderr",
     "output_type": "stream",
     "text": [
      "Inferencia: 100%|██████████| 32/32 [00:22<00:00,  1.44it/s]"
     ]
    },
    {
     "name": "stdout",
     "output_type": "stream",
     "text": [
      "\n",
      "[ TAREA: TIPO DE TEJIDO ]\n"
     ]
    },
    {
     "name": "stderr",
     "output_type": "stream",
     "text": [
      "\n"
     ]
    },
    {
     "data": {
      "image/png": "[encoded data removed]",
      "text/plain": [
       "<Figure size 500x400 with 2 Axes>"
      ]
     },
     "metadata": {},
     "output_type": "display_data"
    },
    {
     "name": "stdout",
     "output_type": "stream",
     "text": [
      "Métricas de Rendimiento - Tipo de Tejido (YOLO v11):\n"
     ]
    },
    {
     "data": {
      "text/html": [
       "<div>\n",
       "<style scoped>\n",
       "    .dataframe tbody tr th:only-of-type {\n",
       "        vertical-align: middle;\n",
       "    }\n",
       "\n",
       "    .dataframe tbody tr th {\n",
       "        vertical-align: top;\n",
       "    }\n",
       "\n",
       "    .dataframe thead th {\n",
       "        text-align: right;\n",
       "    }\n",
       "</style>\n",
       "<table border=\"1\" class=\"dataframe\">\n",
       "  <thead>\n",
       "    <tr style=\"text-align: right;\">\n",
       "      <th></th>\n",
       "      <th>Accuracy</th>\n",
       "      <th>Recall (Sensitivity)</th>\n",
       "      <th>Specificity</th>\n",
       "      <th>Precision</th>\n",
       "      <th>F1-Score</th>\n",
       "    </tr>\n",
       "  </thead>\n",
       "  <tbody>\n",
       "    <tr>\n",
       "      <th>0</th>\n",
       "      <td>0.988</td>\n",
       "      <td>0.98</td>\n",
       "      <td>0.996</td>\n",
       "      <td>0.995935</td>\n",
       "      <td>0.987903</td>\n",
       "    </tr>\n",
       "  </tbody>\n",
       "</table>\n",
       "</div>"
      ],
      "text/plain": [
       "   Accuracy  Recall (Sensitivity)  Specificity  Precision  F1-Score\n",
       "0     0.988                  0.98        0.996   0.995935  0.987903"
      ]
     },
     "metadata": {},
     "output_type": "display_data"
    },
    {
     "name": "stdout",
     "output_type": "stream",
     "text": [
      "\n",
      "[ TAREA: ESTADO PATOLÓGICO ]\n"
     ]
    },
    {
     "data": {
      "image/png": "[encoded data removed]",
      "text/plain": [
       "<Figure size 500x400 with 2 Axes>"
      ]
     },
     "metadata": {},
     "output_type": "display_data"
    },
    {
     "name": "stdout",
     "output_type": "stream",
     "text": [
      "Métricas de Rendimiento - Estado Patológico (YOLO v11):\n"
     ]
    },
    {
     "data": {
      "text/html": [
       "<div>\n",
       "<style scoped>\n",
       "    .dataframe tbody tr th:only-of-type {\n",
       "        vertical-align: middle;\n",
       "    }\n",
       "\n",
       "    .dataframe tbody tr th {\n",
       "        vertical-align: top;\n",
       "    }\n",
       "\n",
       "    .dataframe thead th {\n",
       "        text-align: right;\n",
       "    }\n",
       "</style>\n",
       "<table border=\"1\" class=\"dataframe\">\n",
       "  <thead>\n",
       "    <tr style=\"text-align: right;\">\n",
       "      <th></th>\n",
       "      <th>Accuracy</th>\n",
       "      <th>Recall (Sensitivity)</th>\n",
       "      <th>Specificity</th>\n",
       "      <th>Precision</th>\n",
       "      <th>F1-Score</th>\n",
       "    </tr>\n",
       "  </thead>\n",
       "  <tbody>\n",
       "    <tr>\n",
       "      <th>0</th>\n",
       "      <td>0.969</td>\n",
       "      <td>0.971</td>\n",
       "      <td>0.967</td>\n",
       "      <td>0.967131</td>\n",
       "      <td>0.969062</td>\n",
       "    </tr>\n",
       "  </tbody>\n",
       "</table>\n",
       "</div>"
      ],
      "text/plain": [
       "   Accuracy  Recall (Sensitivity)  Specificity  Precision  F1-Score\n",
       "0     0.969                 0.971        0.967   0.967131  0.969062"
      ]
     },
     "metadata": {},
     "output_type": "display_data"
    },
    {
     "name": "stdout",
     "output_type": "stream",
     "text": [
      "--- Análisis para YOLO v11 completado ---\n",
      "\n",
      "--- Iniciando análisis agregado para el modelo: Inception v4 ---\n"
     ]
    },
    {
     "name": "stderr",
     "output_type": "stream",
     "text": [
      "Inferencia: 100%|██████████| 32/32 [06:01<00:00, 11.29s/it]"
     ]
    },
    {
     "name": "stdout",
     "output_type": "stream",
     "text": [
      "\n",
      "[ TAREA: TIPO DE TEJIDO ]\n"
     ]
    },
    {
     "name": "stderr",
     "output_type": "stream",
     "text": [
      "\n"
     ]
    },
    {
     "data": {
      "image/png": "[encoded data removed]",
      "text/plain": [
       "<Figure size 500x400 with 2 Axes>"
      ]
     },
     "metadata": {},
     "output_type": "display_data"
    },
    {
     "name": "stdout",
     "output_type": "stream",
     "text": [
      "Métricas de Rendimiento - Tipo de Tejido (Inception v4):\n"
     ]
    },
    {
     "data": {
      "text/html": [
       "<div>\n",
       "<style scoped>\n",
       "    .dataframe tbody tr th:only-of-type {\n",
       "        vertical-align: middle;\n",
       "    }\n",
       "\n",
       "    .dataframe tbody tr th {\n",
       "        vertical-align: top;\n",
       "    }\n",
       "\n",
       "    .dataframe thead th {\n",
       "        text-align: right;\n",
       "    }\n",
       "</style>\n",
       "<table border=\"1\" class=\"dataframe\">\n",
       "  <thead>\n",
       "    <tr style=\"text-align: right;\">\n",
       "      <th></th>\n",
       "      <th>Accuracy</th>\n",
       "      <th>Recall (Sensitivity)</th>\n",
       "      <th>Specificity</th>\n",
       "      <th>Precision</th>\n",
       "      <th>F1-Score</th>\n",
       "    </tr>\n",
       "  </thead>\n",
       "  <tbody>\n",
       "    <tr>\n",
       "      <th>0</th>\n",
       "      <td>0.9705</td>\n",
       "      <td>0.96</td>\n",
       "      <td>0.981</td>\n",
       "      <td>0.980592</td>\n",
       "      <td>0.970187</td>\n",
       "    </tr>\n",
       "  </tbody>\n",
       "</table>\n",
       "</div>"
      ],
      "text/plain": [
       "   Accuracy  Recall (Sensitivity)  Specificity  Precision  F1-Score\n",
       "0    0.9705                  0.96        0.981   0.980592  0.970187"
      ]
     },
     "metadata": {},
     "output_type": "display_data"
    },
    {
     "name": "stdout",
     "output_type": "stream",
     "text": [
      "\n",
      "[ TAREA: ESTADO PATOLÓGICO ]\n"
     ]
    },
    {
     "data": {
      "image/png": "[encoded data removed]",
      "text/plain": [
       "<Figure size 500x400 with 2 Axes>"
      ]
     },
     "metadata": {},
     "output_type": "display_data"
    },
    {
     "name": "stdout",
     "output_type": "stream",
     "text": [
      "Métricas de Rendimiento - Estado Patológico (Inception v4):\n"
     ]
    },
    {
     "data": {
      "text/html": [
       "<div>\n",
       "<style scoped>\n",
       "    .dataframe tbody tr th:only-of-type {\n",
       "        vertical-align: middle;\n",
       "    }\n",
       "\n",
       "    .dataframe tbody tr th {\n",
       "        vertical-align: top;\n",
       "    }\n",
       "\n",
       "    .dataframe thead th {\n",
       "        text-align: right;\n",
       "    }\n",
       "</style>\n",
       "<table border=\"1\" class=\"dataframe\">\n",
       "  <thead>\n",
       "    <tr style=\"text-align: right;\">\n",
       "      <th></th>\n",
       "      <th>Accuracy</th>\n",
       "      <th>Recall (Sensitivity)</th>\n",
       "      <th>Specificity</th>\n",
       "      <th>Precision</th>\n",
       "      <th>F1-Score</th>\n",
       "    </tr>\n",
       "  </thead>\n",
       "  <tbody>\n",
       "    <tr>\n",
       "      <th>0</th>\n",
       "      <td>0.9785</td>\n",
       "      <td>0.983</td>\n",
       "      <td>0.974</td>\n",
       "      <td>0.974232</td>\n",
       "      <td>0.978596</td>\n",
       "    </tr>\n",
       "  </tbody>\n",
       "</table>\n",
       "</div>"
      ],
      "text/plain": [
       "   Accuracy  Recall (Sensitivity)  Specificity  Precision  F1-Score\n",
       "0    0.9785                 0.983        0.974   0.974232  0.978596"
      ]
     },
     "metadata": {},
     "output_type": "display_data"
    },
    {
     "name": "stdout",
     "output_type": "stream",
     "text": [
      "--- Análisis para Inception v4 completado ---\n",
      "\n"
     ]
    }
   ],
   "source": [
    "# Analizar ResNet-50\n",
    "resnet_tissue_metrics, resnet_state_metrics = analyze_aggregated_tasks(best_resnet50, data, \"ResNet-50\")\n",
    "\n",
    "# Analizar Yolo v11\n",
    "yolo_tissue_metrics, yolo_state_metrics = analyze_aggregated_tasks(best_yolo11, data, \"YOLO v11\")\n",
    "\n",
    "# Analizar Inception v4\n",
    "inception_tissue_metrics, inception_state_metrics = analyze_aggregated_tasks(best_inceptionv4, data, \"Inception v4\")"
   ]
  },
  {
   "cell_type": "code",
   "execution_count": 81,
   "id": "8b8968fc",
   "metadata": {},
   "outputs": [
    {
     "name": "stdout",
     "output_type": "stream",
     "text": [
      "Tabla de comparación consolidada:\n"
     ]
    },
    {
     "data": {
      "text/html": [
       "<div>\n",
       "<style scoped>\n",
       "    .dataframe tbody tr th:only-of-type {\n",
       "        vertical-align: middle;\n",
       "    }\n",
       "\n",
       "    .dataframe tbody tr th {\n",
       "        vertical-align: top;\n",
       "    }\n",
       "\n",
       "    .dataframe thead th {\n",
       "        text-align: right;\n",
       "    }\n",
       "</style>\n",
       "<table border=\"1\" class=\"dataframe\">\n",
       "  <thead>\n",
       "    <tr style=\"text-align: right;\">\n",
       "      <th></th>\n",
       "      <th>Accuracy</th>\n",
       "      <th>Recall (Sensitivity)</th>\n",
       "      <th>Specificity</th>\n",
       "      <th>Precision</th>\n",
       "      <th>F1-Score</th>\n",
       "      <th>Model</th>\n",
       "      <th>Task</th>\n",
       "    </tr>\n",
       "  </thead>\n",
       "  <tbody>\n",
       "    <tr>\n",
       "      <th>0</th>\n",
       "      <td>0.9980</td>\n",
       "      <td>0.998</td>\n",
       "      <td>0.998</td>\n",
       "      <td>0.998000</td>\n",
       "      <td>0.998000</td>\n",
       "      <td>ResNet-50</td>\n",
       "      <td>Tipo de Tejido</td>\n",
       "    </tr>\n",
       "    <tr>\n",
       "      <th>1</th>\n",
       "      <td>0.9910</td>\n",
       "      <td>0.998</td>\n",
       "      <td>0.984</td>\n",
       "      <td>0.984221</td>\n",
       "      <td>0.991063</td>\n",
       "      <td>ResNet-50</td>\n",
       "      <td>Estado Patológico</td>\n",
       "    </tr>\n",
       "    <tr>\n",
       "      <th>2</th>\n",
       "      <td>0.9880</td>\n",
       "      <td>0.980</td>\n",
       "      <td>0.996</td>\n",
       "      <td>0.995935</td>\n",
       "      <td>0.987903</td>\n",
       "      <td>YOLO v11</td>\n",
       "      <td>Tipo de Tejido</td>\n",
       "    </tr>\n",
       "    <tr>\n",
       "      <th>3</th>\n",
       "      <td>0.9690</td>\n",
       "      <td>0.971</td>\n",
       "      <td>0.967</td>\n",
       "      <td>0.967131</td>\n",
       "      <td>0.969062</td>\n",
       "      <td>YOLO v11</td>\n",
       "      <td>Estado Patológico</td>\n",
       "    </tr>\n",
       "    <tr>\n",
       "      <th>4</th>\n",
       "      <td>0.9705</td>\n",
       "      <td>0.960</td>\n",
       "      <td>0.981</td>\n",
       "      <td>0.980592</td>\n",
       "      <td>0.970187</td>\n",
       "      <td>Inception v4</td>\n",
       "      <td>Tipo de Tejido</td>\n",
       "    </tr>\n",
       "    <tr>\n",
       "      <th>5</th>\n",
       "      <td>0.9785</td>\n",
       "      <td>0.983</td>\n",
       "      <td>0.974</td>\n",
       "      <td>0.974232</td>\n",
       "      <td>0.978596</td>\n",
       "      <td>Inception v4</td>\n",
       "      <td>Estado Patológico</td>\n",
       "    </tr>\n",
       "  </tbody>\n",
       "</table>\n",
       "</div>"
      ],
      "text/plain": [
       "   Accuracy  Recall (Sensitivity)  Specificity  Precision  F1-Score  \\\n",
       "0    0.9980                 0.998        0.998   0.998000  0.998000   \n",
       "1    0.9910                 0.998        0.984   0.984221  0.991063   \n",
       "2    0.9880                 0.980        0.996   0.995935  0.987903   \n",
       "3    0.9690                 0.971        0.967   0.967131  0.969062   \n",
       "4    0.9705                 0.960        0.981   0.980592  0.970187   \n",
       "5    0.9785                 0.983        0.974   0.974232  0.978596   \n",
       "\n",
       "          Model               Task  \n",
       "0     ResNet-50     Tipo de Tejido  \n",
       "1     ResNet-50  Estado Patológico  \n",
       "2      YOLO v11     Tipo de Tejido  \n",
       "3      YOLO v11  Estado Patológico  \n",
       "4  Inception v4     Tipo de Tejido  \n",
       "5  Inception v4  Estado Patológico  "
      ]
     },
     "metadata": {},
     "output_type": "display_data"
    }
   ],
   "source": [
    "# Añadir identificadores de modelo y tarea a cada dataframe\n",
    "resnet_tissue_metrics['Model'] = 'ResNet-50'\n",
    "resnet_tissue_metrics['Task'] = 'Tipo de Tejido'\n",
    "resnet_state_metrics['Model'] = 'ResNet-50'\n",
    "resnet_state_metrics['Task'] = 'Estado Patológico'\n",
    "\n",
    "yolo_tissue_metrics['Model'] = 'YOLO v11'\n",
    "yolo_tissue_metrics['Task'] = 'Tipo de Tejido'\n",
    "yolo_state_metrics['Model'] = 'YOLO v11'\n",
    "yolo_state_metrics['Task'] = 'Estado Patológico'\n",
    "\n",
    "inception_tissue_metrics['Model'] = 'Inception v4'\n",
    "inception_tissue_metrics['Task'] = 'Tipo de Tejido'\n",
    "inception_state_metrics['Model'] = 'Inception v4'\n",
    "inception_state_metrics['Task'] = 'Estado Patológico'\n",
    "\n",
    "# Concatenar todos los resultados\n",
    "comparison_df = pd.concat([\n",
    "    resnet_tissue_metrics, resnet_state_metrics,\n",
    "    yolo_tissue_metrics, yolo_state_metrics,\n",
    "    inception_tissue_metrics, inception_state_metrics\n",
    "], ignore_index=True)\n",
    "\n",
    "print(\"Tabla de comparación consolidada:\")\n",
    "display(comparison_df)"
   ]
  },
  {
   "cell_type": "code",
   "execution_count": 82,
   "id": "31cd4176",
   "metadata": {},
   "outputs": [
    {
     "data": {
      "image/png": "[encoded data removed]",
      "text/plain": [
       "<Figure size 1200x700 with 1 Axes>"
      ]
     },
     "metadata": {},
     "output_type": "display_data"
    }
   ],
   "source": [
    "plt.figure(figsize=(12, 7))\n",
    "sns.barplot(data=comparison_df, x='Model', y='F1-Score', hue='Task', palette='viridis')\n",
    "\n",
    "plt.title('Comparación de F1-Score: Tipo de Tejido vs. Estado Patológico', fontsize=16)\n",
    "plt.xlabel('Modelo', fontsize=12)\n",
    "plt.ylabel('F1-Score', fontsize=12)\n",
    "plt.ylim(0.9, 1.0) # Ajusta el límite para una mejor visualización de las diferencias\n",
    "plt.legend(title='Subtarea de Clasificación')\n",
    "plt.grid(axis='y', linestyle='--', alpha=0.7)\n",
    "plt.show()"
   ]
  }
 ],
 "metadata": {
  "kernelspec": {
   "display_name": "deep-neural-networks",
   "language": "python",
   "name": "python3"
  },
  "language_info": {
   "codemirror_mode": {
    "name": "ipython",
    "version": 3
   },
   "file_extension": ".py",
   "mimetype": "text/x-python",
   "name": "python",
   "nbconvert_exporter": "python",
   "pygments_lexer": "ipython3",
   "version": "3.10.16"
  }
 },
 "nbformat": 4,
 "nbformat_minor": 5
}
